{
 "cells": [
  {
   "cell_type": "code",
   "execution_count": null,
   "metadata": {},
   "outputs": [],
   "source": [
    "# if (!require(\"BiocManager\", quietly = TRUE))\n",
    "#     install.packages(\"BiocManager\")\n",
    "\n",
    "# BiocManager::install(\"Gviz\")"
   ]
  },
  {
   "cell_type": "code",
   "execution_count": null,
   "metadata": {},
   "outputs": [],
   "source": [
    "# if (!require(\"BiocManager\", quietly = TRUE))\n",
    "#     install.packages(\"BiocManager\")\n",
    "\n",
    "# BiocManager::install(\"rtracklayer\")"
   ]
  },
  {
   "cell_type": "code",
   "execution_count": null,
   "metadata": {},
   "outputs": [],
   "source": [
    "# if (!require(\"BiocManager\", quietly = TRUE))\n",
    "#     install.packages(\"BiocManager\")\n",
    "\n",
    "# BiocManager::install(\"trackViewer\")"
   ]
  },
  {
   "cell_type": "code",
   "execution_count": null,
   "metadata": {},
   "outputs": [],
   "source": [
    "library(trackViewer)\n",
    "library(ggplot2)"
   ]
  },
  {
   "cell_type": "markdown",
   "metadata": {},
   "source": [
    "# HFE "
   ]
  },
  {
   "cell_type": "code",
   "execution_count": null,
   "metadata": {},
   "outputs": [],
   "source": [
    "svg(file='hfe_vars.svg', height=4, width=8)\n",
    "features <- GRanges(\"chr6\", IRanges(c(26087281, 26114873, 26124203), \n",
    "                                    width=c(7088, 9038, 14882),\n",
    "                                    names=c(\"HFE\", \"H2BC4\", \"H2AC6\")),\n",
    "                    fill = c(\"#1f77b4\", \"#ff7f0e\", \"#2ca02c\"),\n",
    "                    height = c(0.05, 0.05, 0.05))\n",
    "SNP <- c(26087628, 26090951, 26092913, 26124406)\n",
    "sample.gr <- GRanges(\"chr6\", IRanges(SNP, width=1, names=c(\"rs2858993\", \"rs1799945\",\"rs1800562\",\"rs4645\")),\n",
    "                     color = c('#000000', \"#FF0000\", \"#FF0000\", '#808080'),\n",
    "                     score = sample.int(1, length(SNP), replace = TRUE))\n",
    "xaxis <- c(26087000, ((((26124203+15007) - 26087000)/2) + 26087000), (26124203+15007))\n",
    "legend <- list(labels=c(\"vQTL\", \"Pathogenic\", \"Modifier\"), col=c('#000000', \"#FF0000\", '#808080'), fill=c('#000000', \"#FF0000\", '#808080'))\n",
    "lolliplot(sample.gr, features, xaxis=xaxis, ylab='', type='circle', legend=legend)\n",
    "dev.off()"
   ]
  },
  {
   "cell_type": "markdown",
   "metadata": {},
   "source": [
    "# JAK2_HEATR4"
   ]
  },
  {
   "cell_type": "code",
   "execution_count": null,
   "metadata": {},
   "outputs": [],
   "source": [
    "svg(file='jak2_heatr4.svg', height=8, width=8)\n",
    "fig.dim = c(8, 8)\n",
    "features2 <- GRanges(\"chr9\", IRanges(c(4985272), \n",
    "                                    width=c(144677),\n",
    "                                    names=c(\"JAK2\")),\n",
    "                    fill = c(\"#1f77b4\"),\n",
    "                    height = c(0.05))\n",
    "SNP2 <- c(5005034, 5114773)\n",
    "xaxis2 <- seq(4980000,5100000, 40000)\n",
    "\n",
    "sample2.gr <- GRanges(\"chr9\", IRanges(SNP2, width=1, names=c(\"rs59384377\", \"rs17425819\")),\n",
    "                     color = c(\"#FF0000\", '#000000'),\n",
    "                     score = sample.int(1, length(SNP2), replace = TRUE),\n",
    "                     )\n",
    "features3 <- GRanges(\"chr14\", IRanges(c(73478484), \n",
    "                                    width=c(80464),\n",
    "                                    names=c(\"HEATR4\")),\n",
    "                    fill = c(\"#ff7f0e\"),\n",
    "                    height = c(0.05))\n",
    "SNP3 <- c(73526314)\n",
    "sample3.gr <- GRanges(\"chr14\", IRanges(SNP3, width=1, names=c(\"rs35417585\")),\n",
    "                     color = c('#808080'),\n",
    "                     score = sample.int(1, length(SNP3), replace = TRUE))\n",
    "xaxis3 <- seq(73478000, 73640000, 40000)\n",
    "legend <- list(labels=c(\"vQTL\", \"Pathogenic\", \"Modifier\"), col=c('#000000', \"#FF0000\", '#808080'), fill=c('#000000', \"#FF0000\", '#808080'))\n",
    "lolliplot(list(B=sample3.gr, A=sample2.gr), list(x=features3, y=features2),\n",
    "          xaxis=c(xaxis3, xaxis2),\n",
    "          xaxis.gp = gpar(fontsize=11),\n",
    "          legend=legend)\n",
    "\n",
    "dev.off()"
   ]
  },
  {
   "cell_type": "markdown",
   "metadata": {},
   "source": [
    "# Lymph rs3819720"
   ]
  },
  {
   "cell_type": "code",
   "execution_count": null,
   "metadata": {},
   "outputs": [],
   "source": [
    "svg(file='lymph_rs3819720_vars.svg', height=4, width=8)\n",
    "features <- GRanges(\"chr6\", IRanges(c(32637406, 32659467, 32741391, 32756098, 32812763, 32825415), \n",
    "                                    width=c(6279, 7191, 5808, 7435, 4240, 13325),\n",
    "                                    names=c(\"HLA-DQA1\", \"HLA-DQB1\", \"HLA-DQA2\", \"HLA-DQB2\", \"HLA-DOB\", \"TAP2\")),\n",
    "                    fill = c('#1f77b4', '#ff7f0e', '#2ca02c', '#d62728', '#9467bd', '#8c564b'),\n",
    "                    height = c(0.05, 0.03, 0.05, 0.03, 0.03, 0.03))\n",
    "SNP <- c(32658263, 32836793)\n",
    "sample.gr <- GRanges(\"chr6\", IRanges(SNP, width=1, names=c(\"rs4713570\", \"rs3819720\")),\n",
    "                     color = c('#808080', '#000000'),\n",
    "                     score = sample.int(1, length(SNP), replace = TRUE))\n",
    "legend <- list(labels=c(\"vQTL\", \"Modifier\"), col=c('#000000', '#808080'), fill=c('#000000', '#808080'))\n",
    "lolliplot(sample.gr, features, ylab='', type='circle', legend=legend)\n",
    "dev.off()"
   ]
  },
  {
   "cell_type": "markdown",
   "metadata": {},
   "source": [
    "# Eos rs10281069"
   ]
  },
  {
   "cell_type": "code",
   "execution_count": null,
   "metadata": {},
   "outputs": [],
   "source": [
    "svg(file='eos_rs10281069_vars.svg', height=6, width=8)\n",
    "\n",
    "features <- GRanges(\"chr7\", IRanges(c(75769538, 75810825, 75879034), \n",
    "                                    width=c(2674, 2982, 9893),\n",
    "                                    names=c(\"CCL26\", \"CCL24\", \"RHBDD2\")),\n",
    "                    fill = c('#1f77b4', '#ff7f0e', '#2ca02c'),\n",
    "                    height = c(0.03, 0.03, 0.05))\n",
    "SNP <- c(75797190, 75869993)\n",
    "sample.gr <- GRanges(\"chr7\", IRanges(SNP, width=1, names=c(\"rs112610805\", \"rs10281069\")),\n",
    "                     color = c(\"#808080\", '#000000'),\n",
    "                     score = sample.int(1, length(SNP), replace = TRUE))\n",
    "legend <- list(labels=c(\"vQTL\", \"Modifier\"), col=c('#000000', '#808080'), fill=c('#000000', '#808080'))\n",
    "lolliplot(sample.gr, features, ylab='', type='circle', legend=legend)\n",
    "dev.off()"
   ]
  }
 ],
 "metadata": {
  "kernelspec": {
   "display_name": "R",
   "language": "R",
   "name": "ir"
  },
  "language_info": {
   "codemirror_mode": "r",
   "file_extension": ".r",
   "mimetype": "text/x-r-source",
   "name": "R",
   "pygments_lexer": "r",
   "version": "4.4.0"
  },
  "toc": {
   "base_numbering": 1,
   "nav_menu": {},
   "number_sections": true,
   "sideBar": true,
   "skip_h1_title": false,
   "title_cell": "Table of Contents",
   "title_sidebar": "Contents",
   "toc_cell": false,
   "toc_position": {},
   "toc_section_display": true,
   "toc_window_display": false
  }
 },
 "nbformat": 4,
 "nbformat_minor": 2
}
