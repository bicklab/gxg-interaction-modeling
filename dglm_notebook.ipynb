{
 "cells": [
  {
   "cell_type": "code",
   "execution_count": null,
   "metadata": {},
   "outputs": [],
   "source": [
    "library(data.table)\n",
    "library(dglm)\n",
    "library(dplyr)\n",
    "library(qqman)"
   ]
  },
  {
   "cell_type": "markdown",
   "metadata": {},
   "source": [
    "# Functions"
   ]
  },
  {
   "cell_type": "code",
   "execution_count": null,
   "metadata": {},
   "outputs": [],
   "source": [
    "load_and_process_tsv <- function(df, phenotype) {\n",
    "    colnames(df) <- gsub(\":\", \"_\", colnames(df))\n",
    "    df <- df[complete.cases(df[[phenotype]]), ]\n",
    "    df[[phenotype]] <- qnorm((rank(df[[phenotype]],na.last=\"keep\")-0.5)/sum(!is.na(df[[phenotype]])))\n",
    "    results_df <- data.frame(Estimate=numeric(),\n",
    "        Std.Error=numeric(),\n",
    "        t.value=numeric(),\n",
    "        \"Pr(>|t|)\"=numeric(),\n",
    "        \"SNP\"=character())\n",
    "\n",
    "    for (col in names(df)) {\n",
    "        if (grepl(\":\", col) | grepl(\"rs\", col)) {\n",
    "            formula <- paste0(\"~genetic_sex+baseline_age+\", col, \"+PC1+PC2+PC3+PCD4\")\n",
    "            model <- paste0(phenotype, formula)\n",
    "            col_df <- df[complete.cases(df[[col]]) &\n",
    "                                        df[[phenotype]] > 0 &\n",
    "                                        df[[col]] > 0 &\n",
    "                                        complete.cases(df[[phenotype]]), ]\n",
    "            if (sum(is.na(df[[col]])) < 10000) {\n",
    "                out <- dglm(as.formula(model), as.formula(model), data=col_df)\n",
    "                mean_out <- summary(out)\n",
    "                disp_out <- summary(out$dispersion.fit)\n",
    "                if (col %in% rownames(disp_out$coefficients)) {\n",
    "                    mean_row <- mean_out$coefficients[col,]\n",
    "                    summary_out_disp <- summary(out$dispersion.fit)\n",
    "                    disp_row <- disp_out$coefficients[col, ]\n",
    "                    snp_df <- data.frame(Mean.Estimate = mean_row['Estimate'],\n",
    "                                         Mean.Std.Error = mean_row['Std. Error'],\n",
    "                                         Mean.t.value = mean_row['t value'],\n",
    "                                         \"Mean.Pr(>|t|)\" = mean_row['Pr(>|t|)'],\n",
    "                                         Dispersion.Estimate = disp_row['Estimate'],\n",
    "                                         Dispersion.Std.Error = disp_row['Std. Error'],\n",
    "                                         Dispersion.t.value = disp_row['t value'],\n",
    "                                         \"Dispersion.Pr(>|t|)\" = disp_row['Pr(>|t|)'],\n",
    "                                         SNP = col)\n",
    "                    results_df <- rbind(results_df, snp_df)\n",
    "                }\n",
    "            }\n",
    "        }\n",
    "    }\n",
    "    return(results_df)\n",
    "}"
   ]
  },
  {
   "cell_type": "code",
   "execution_count": null,
   "metadata": {},
   "outputs": [],
   "source": [
    "dglm_gene_trait_pair <- function(input_filename, pheno, qqplot_filename, results_filename) {\n",
    "    df <- fread(input_filename)\n",
    "    alpha_denom <- length(df)\n",
    "    df <- na.omit(df, cols=c(\"genetic_sex\", \n",
    "                             \"baseline_age\", \n",
    "                             \"PC1\", \n",
    "                             \"PC2\",\n",
    "                             \"PC3\",\n",
    "                             \"PCD4\",\n",
    "                             pheno))\n",
    "    results_df <- load_and_process_tsv(df, pheno)\n",
    "    pdf(qqplot_filename)\n",
    "    qq(results_df$Dispersion.Pr...t..)\n",
    "    dev.off()\n",
    "    write.table(results_df %>% arrange(Dispersion.Pr...t..),\n",
    "               results_filename, sep='\\t', row.names=FALSE)\n",
    "}"
   ]
  },
  {
   "cell_type": "markdown",
   "metadata": {},
   "source": [
    "# Examples"
   ]
  },
  {
   "cell_type": "code",
   "execution_count": null,
   "metadata": {},
   "outputs": [],
   "source": [
    "dglm_gene_trait_pair(\"pnpla3_ast_dglm.tsv\", \n",
    "                     'ast', \n",
    "                     'pnpla3_ast_dglm_disperson_qqplot.pdf',\n",
    "                     'pnpla3_ast_dglm_results.tsv')"
   ]
  },
  {
   "cell_type": "code",
   "execution_count": null,
   "metadata": {},
   "outputs": [],
   "source": [
    "dglm_gene_trait_pair(\"hfe_hgb_dglm.tsv\", \n",
    "                     'hgb', \n",
    "                     'hfe_hgb_dglm_disperson_qqplot.pdf',\n",
    "                     'hfe_hgb_dglm_results.tsv')"
   ]
  }
 ],
 "metadata": {
  "language_info": {
   "name": "python"
  }
 },
 "nbformat": 4,
 "nbformat_minor": 2
}
